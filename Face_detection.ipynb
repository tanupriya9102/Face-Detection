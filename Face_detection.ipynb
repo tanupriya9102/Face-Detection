{
 "cells": [
  {
   "cell_type": "code",
   "execution_count": null,
   "id": "e00ef234",
   "metadata": {},
   "outputs": [],
   "source": [
    "import numpy as np\n",
    "import cv2"
   ]
  },
  {
   "cell_type": "code",
   "execution_count": null,
   "id": "d4b5d511",
   "metadata": {},
   "outputs": [],
   "source": [
    "img=cv2.imread('./images/faces.jpg')\n",
    "cv2.imshow('face',img)\n",
    "cv2.waitKey(0)\n",
    "cv2.destroyAllWindows()"
   ]
  },
  {
   "cell_type": "code",
   "execution_count": null,
   "id": "7bbeb498",
   "metadata": {},
   "outputs": [],
   "source": [
    "face_cascade=cv2.CascadeClassifier('./model/haarcascade_frontalface_default.xml')"
   ]
  },
  {
   "cell_type": "code",
   "execution_count": null,
   "id": "6649c145",
   "metadata": {},
   "outputs": [],
   "source": [
    "def face_detection(img):\n",
    "    image=img.copy()\n",
    "    # step 1: convert image to grayscale\n",
    "    gray=cv2.cvtColor(img,cv2.COLOR_BGR2GRAY)\n",
    "    # step 2: apply gray scale to cascade classifier\n",
    "    box,detections=face_cascade.detectMultiScale2(gray,minNeighbors=6)\n",
    "    print(box)\n",
    "    for x,y,w,h in box:\n",
    "        cv2.rectangle(image,(x,y),(x+w,y+h),(0,255,0),1)\n",
    "    \n",
    "    return image\n",
    "\n",
    "# The face_cascade.detectMultiScale2() function is used to detect faces in the grayscale image. \n",
    "# It takes the grayscale image as input and uses a cascade classifier previously trained on face detection.\n",
    "# The minNeighbors parameter specifies the number of neighbors a candidate rectangle should have to retain it. \n",
    "# Increasing this value results in fewer detections but with higher quality. \n",
    "# The function returns two values: box and detections. box contains the coordinates and dimensions of the detected faces, \n",
    "# while detections represents the detection confidence scores."
   ]
  },
  {
   "cell_type": "code",
   "execution_count": null,
   "id": "2d099ecf",
   "metadata": {},
   "outputs": [],
   "source": [
    "img_detect=face_detection(img)\n",
    "cv2.imshow('face_detection',img_detect)\n",
    "cv2.waitKey(0)\n",
    "cv2.destroyAllWindows()"
   ]
  },
  {
   "cell_type": "code",
   "execution_count": null,
   "id": "5d3ba408",
   "metadata": {},
   "outputs": [],
   "source": [
    "image=img.copy()\n",
    "# step 1: convert image to grayscale\n",
    "gray=cv2.cvtColor(image,cv2.COLOR_BGR2GRAY)\n",
    "# step 2: apply gray scale to cascade classifier\n",
    "box,detections=face_cascade.detectMultiScale2(gray,minNeighbors=14)\n",
    "for x,y,w,h in box:\n",
    "    cv2.rectangle(image,(x,y),(x+w,y+h),(0,255,0),1)\n",
    "    \n",
    "cv2.imshow('face_detection1',image)\n",
    "cv2.waitKey(0)\n",
    "cv2.destroyAllWindows()\n",
    "   "
   ]
  },
  {
   "cell_type": "code",
   "execution_count": null,
   "id": "fd335003",
   "metadata": {},
   "outputs": [],
   "source": [
    "detections"
   ]
  },
  {
   "cell_type": "code",
   "execution_count": null,
   "id": "947725ec",
   "metadata": {},
   "outputs": [],
   "source": [
    "box"
   ]
  },
  {
   "cell_type": "code",
   "execution_count": null,
   "id": "3882d985",
   "metadata": {},
   "outputs": [],
   "source": []
  }
 ],
 "metadata": {
  "kernelspec": {
   "display_name": "Python 3",
   "language": "python",
   "name": "python3"
  },
  "language_info": {
   "codemirror_mode": {
    "name": "ipython",
    "version": 3
   },
   "file_extension": ".py",
   "mimetype": "text/x-python",
   "name": "python",
   "nbconvert_exporter": "python",
   "pygments_lexer": "ipython3",
   "version": "3.8.8"
  }
 },
 "nbformat": 4,
 "nbformat_minor": 5
}

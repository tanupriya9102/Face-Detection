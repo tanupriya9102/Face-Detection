{
 "cells": [
  {
   "cell_type": "code",
   "execution_count": 1,
   "id": "e00ef234",
   "metadata": {},
   "outputs": [],
   "source": [
    "import numpy as np\n",
    "import cv2"
   ]
  },
  {
   "cell_type": "code",
   "execution_count": 2,
   "id": "d4b5d511",
   "metadata": {},
   "outputs": [],
   "source": [
    "img=cv2.imread('faces.jpg')\n",
    "cv2.imshow('face',img)\n",
    "cv2.waitKey(0)\n",
    "cv2.destroyAllWindows()"
   ]
  },
  {
   "cell_type": "code",
   "execution_count": 3,
   "id": "7bbeb498",
   "metadata": {},
   "outputs": [],
   "source": [
    "face_cascade=cv2.CascadeClassifier('./model/haarcascade_frontalface_default.xml')"
   ]
  },
  {
   "cell_type": "code",
   "execution_count": 4,
   "id": "6649c145",
   "metadata": {},
   "outputs": [],
   "source": [
    "def face_detection(img):\n",
    "    image=img.copy()\n",
    "    # step 1: convert image to grayscale\n",
    "    gray=cv2.cvtColor(img,cv2.COLOR_BGR2GRAY)\n",
    "    # step 2: apply gray scale to cascade classifier\n",
    "    box,detections=face_cascade.detectMultiScale2(gray,minNeighbors=5)\n",
    "    for x,y,w,h in box:\n",
    "        cv2.rectangle(image,(x,y),(x+w,y+h),(0,255,0),1)\n",
    "    return image"
   ]
  },
  {
   "cell_type": "code",
   "execution_count": 5,
   "id": "2d099ecf",
   "metadata": {},
   "outputs": [],
   "source": [
    "img_detect=face_detection(img)\n",
    "cv2.imshow('face_detection',img_detect)\n",
    "cv2.waitKey(0)\n",
    "cv2.destroyAllWindows()"
   ]
  },
  {
   "cell_type": "code",
   "execution_count": 6,
   "id": "5d3ba408",
   "metadata": {},
   "outputs": [],
   "source": [
    "image=img.copy()\n",
    "# step 1: convert image to grayscale\n",
    "gray=cv2.cvtColor(img,cv2.COLOR_BGR2GRAY)\n",
    "# step 2: apply gray scale to cascade classifier\n",
    "box,detections=face_cascade.detectMultiScale2(gray,minNeighbors=8)\n",
    "   "
   ]
  },
  {
   "cell_type": "code",
   "execution_count": 7,
   "id": "fd335003",
   "metadata": {},
   "outputs": [
    {
     "data": {
      "text/plain": [
       "array([47, 28, 83, 82, 24])"
      ]
     },
     "execution_count": 7,
     "metadata": {},
     "output_type": "execute_result"
    }
   ],
   "source": [
    "detections"
   ]
  },
  {
   "cell_type": "code",
   "execution_count": 8,
   "id": "947725ec",
   "metadata": {},
   "outputs": [
    {
     "data": {
      "text/plain": [
       "array([[367, 316, 106, 106],\n",
       "       [379,  49,  65,  65],\n",
       "       [438, 218,  69,  69],\n",
       "       [167, 224,  74,  74],\n",
       "       [175,  55,  67,  67]])"
      ]
     },
     "execution_count": 8,
     "metadata": {},
     "output_type": "execute_result"
    }
   ],
   "source": [
    "box"
   ]
  },
  {
   "cell_type": "code",
   "execution_count": null,
   "id": "3882d985",
   "metadata": {},
   "outputs": [],
   "source": []
  }
 ],
 "metadata": {
  "kernelspec": {
   "display_name": "Python 3",
   "language": "python",
   "name": "python3"
  },
  "language_info": {
   "codemirror_mode": {
    "name": "ipython",
    "version": 3
   },
   "file_extension": ".py",
   "mimetype": "text/x-python",
   "name": "python",
   "nbconvert_exporter": "python",
   "pygments_lexer": "ipython3",
   "version": "3.8.8"
  }
 },
 "nbformat": 4,
 "nbformat_minor": 5
}
